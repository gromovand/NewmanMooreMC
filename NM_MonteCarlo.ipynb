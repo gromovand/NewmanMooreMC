{
 "cells": [
  {
   "cell_type": "markdown",
   "metadata": {},
   "source": [
    "# A Monte Carlo program for the Newman-Moore triangular lattice Ising model"
   ]
  },
  {
   "cell_type": "code",
   "execution_count": 1,
   "metadata": {},
   "outputs": [],
   "source": [
    "using Random; Random.seed!(0); \n",
    "rng = MersenneTwister(1234);\n",
    "#k = 2\n",
    "#L = 2^k\n",
    "L = 100\n",
    "N = L*L\n",
    "Spin = fill(1,N);"
   ]
  },
  {
   "cell_type": "code",
   "execution_count": 2,
   "metadata": {},
   "outputs": [],
   "source": [
    "#This is the data structure that relates up-triangles to spin indices\n",
    "UpTriangle = zeros(Int,N,3)\n",
    "for i = 1:N\n",
    "    UpTriangle[i,1] = i\n",
    "    UpTriangle[i,2] = i+1    \n",
    "    UpTriangle[i,3] = i+L\n",
    "    #fix PBCs\n",
    "    if mod(i,L) == 0\n",
    "        UpTriangle[i,2] = i + 1 - L\n",
    "    end\n",
    "    if (i+L)> N\n",
    "        UpTriangle[i,3] = i + L - N\n",
    "    end\n",
    "end"
   ]
  },
  {
   "cell_type": "code",
   "execution_count": 3,
   "metadata": {},
   "outputs": [],
   "source": [
    "#This is the inverse data structure that relates a spin index to its 3 up-triangles\n",
    "AssociatedTri = zeros(Int,N,3)\n",
    "for i = 1:N\n",
    "    AssociatedTri[i,1] = i\n",
    "    AssociatedTri[i,2] = i-1\n",
    "    AssociatedTri[i,3] = i-L\n",
    "    if mod(i-1+L,L) == 0\n",
    "        AssociatedTri[i,2] = i - 1 + L\n",
    "    end\n",
    "    if i<(L+1) \n",
    "        AssociatedTri[i,3] = i + N - L\n",
    "    end\n",
    "end"
   ]
  },
  {
   "cell_type": "code",
   "execution_count": 4,
   "metadata": {},
   "outputs": [
    {
     "data": {
      "text/plain": [
       "Energy_Total (generic function with 1 method)"
      ]
     },
     "execution_count": 4,
     "metadata": {},
     "output_type": "execute_result"
    }
   ],
   "source": [
    "#here is the brute force calculation of the energy\n",
    "function Energy_Total(Energy,Spin)\n",
    "    Energy = 0\n",
    "    for i = 1:N\n",
    "        Spin1 = Spin[UpTriangle[i,1]]\n",
    "        Spin2 = Spin[UpTriangle[i,2]]\n",
    "        Spin3 = Spin[UpTriangle[i,3]]\n",
    "        Energy += 0.5 * Spin1 * Spin2 * Spin3  #J = 1\n",
    "    end\n",
    "    return Energy\n",
    "end #Energy_Total"
   ]
  },
  {
   "cell_type": "code",
   "execution_count": 5,
   "metadata": {},
   "outputs": [
    {
     "data": {
      "text/plain": [
       "Energy_Diff (generic function with 1 method)"
      ]
     },
     "execution_count": 5,
     "metadata": {},
     "output_type": "execute_result"
    }
   ],
   "source": [
    "#here is the energy DIFFERENCE calculated from the local triangular plaquettes\n",
    "function Energy_Diff(Spin,spin_index)\n",
    "    \n",
    "    SpinCopy = copy(Spin)\n",
    "    \n",
    "    Tri1 = AssociatedTri[spin_index,1]\n",
    "    Tri2 = AssociatedTri[spin_index,2]\n",
    "    Tri3 = AssociatedTri[spin_index,3]\n",
    "\n",
    "    local_e_before = 0\n",
    "    Spin1 = SpinCopy[UpTriangle[Tri1,1]]\n",
    "    Spin2 = SpinCopy[UpTriangle[Tri1,2]]\n",
    "    Spin3 = SpinCopy[UpTriangle[Tri1,3]]\n",
    "    local_e_before += 0.5 * Spin1 * Spin2 * Spin3  \n",
    "    Spin1 = SpinCopy[UpTriangle[Tri2,1]]\n",
    "    Spin2 = SpinCopy[UpTriangle[Tri2,2]]\n",
    "    Spin3 = SpinCopy[UpTriangle[Tri2,3]]\n",
    "    local_e_before += 0.5 * Spin1 * Spin2 * Spin3  \n",
    "    Spin1 = SpinCopy[UpTriangle[Tri3,1]]\n",
    "    Spin2 = SpinCopy[UpTriangle[Tri3,2]]\n",
    "    Spin3 = SpinCopy[UpTriangle[Tri3,3]]\n",
    "    local_e_before += 0.5 * Spin1 * Spin2 * Spin3  \n",
    "\n",
    "    #flip the spin\n",
    "    SpinCopy[spin_index] *= -1\n",
    "    \n",
    "    local_e_after = 0\n",
    "    Spin1 = SpinCopy[UpTriangle[Tri1,1]]\n",
    "    Spin2 = SpinCopy[UpTriangle[Tri1,2]]\n",
    "    Spin3 = SpinCopy[UpTriangle[Tri1,3]]\n",
    "    local_e_after += 0.5 * Spin1 * Spin2 * Spin3  \n",
    "    Spin1 = SpinCopy[UpTriangle[Tri2,1]]\n",
    "    Spin2 = SpinCopy[UpTriangle[Tri2,2]]\n",
    "    Spin3 = SpinCopy[UpTriangle[Tri2,3]]\n",
    "    local_e_after += 0.5 * Spin1 * Spin2 * Spin3  \n",
    "    Spin1 = SpinCopy[UpTriangle[Tri3,1]]\n",
    "    Spin2 = SpinCopy[UpTriangle[Tri3,2]]\n",
    "    Spin3 = SpinCopy[UpTriangle[Tri3,3]]\n",
    "    local_e_after += 0.5 * Spin1 * Spin2 * Spin3  \n",
    "    \n",
    "    #println(spin_index,\" \",local_e_before,\" \",local_e_after)\n",
    "    \n",
    "    return local_e_after - local_e_before\n",
    "end"
   ]
  },
  {
   "cell_type": "code",
   "execution_count": 6,
   "metadata": {},
   "outputs": [
    {
     "name": "stdout",
     "output_type": "stream",
     "text": [
      "2656.0\n"
     ]
    }
   ],
   "source": [
    "T = 1.0\n",
    "beta = 1.0/T\n",
    "\n",
    "#initialize the energy\n",
    "Energy = 0\n",
    "Energy=Energy_Total(Energy,Spin)\n",
    "#println(Energy)\n",
    "\n",
    "for step = 1:1000\n",
    "    \n",
    "    spin_i = rand(1:N)\n",
    "    DeltaE = Energy_Diff(Spin,spin_i)\n",
    "    \n",
    "    #Metropolis update\n",
    "    if DeltaE <= 0\n",
    "        Energy += DeltaE\n",
    "        Spin[spin_i] *= -1\n",
    "    else\n",
    "        rnum = rand(rng)  #random number for Metropolis\n",
    "        #println(rnum,\" \",DeltaE,\" \",exp(-beta*DeltaE))\n",
    "        if (exp(-beta*DeltaE) > rnum)\n",
    "            Energy += DeltaE\n",
    "            Spin[spin_i] *= -1\n",
    "        end\n",
    "    end #Metropolis\n",
    "        \n",
    "end #step\n",
    "\n",
    "println(Energy)\n"
   ]
  },
  {
   "cell_type": "code",
   "execution_count": 7,
   "metadata": {},
   "outputs": [
    {
     "name": "stdout",
     "output_type": "stream",
     "text": [
      "2656.0\n"
     ]
    }
   ],
   "source": [
    "Energy=Energy_Total(Energy,Spin)\n",
    "println(Energy)"
   ]
  },
  {
   "cell_type": "code",
   "execution_count": null,
   "metadata": {},
   "outputs": [],
   "source": []
  }
 ],
 "metadata": {
  "kernelspec": {
   "display_name": "Julia 1.3.1",
   "language": "julia",
   "name": "julia-1.3"
  },
  "language_info": {
   "file_extension": ".jl",
   "mimetype": "application/julia",
   "name": "julia",
   "version": "1.3.1"
  }
 },
 "nbformat": 4,
 "nbformat_minor": 2
}
