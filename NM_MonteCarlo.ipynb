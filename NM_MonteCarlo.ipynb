{
 "cells": [
  {
   "cell_type": "markdown",
   "metadata": {},
   "source": [
    "# A Monte Carlo program for the Newman-Moore triangular lattice Ising model"
   ]
  },
  {
   "cell_type": "code",
   "execution_count": 1,
   "metadata": {},
   "outputs": [],
   "source": [
    "using Random; Random.seed!(0); \n",
    "rng = MersenneTwister(1234);\n",
    "#k = 2\n",
    "#L = 2^k\n",
    "L = 8\n",
    "N = L*L\n",
    "Spin = fill(1,N);"
   ]
  },
  {
   "cell_type": "code",
   "execution_count": 2,
   "metadata": {},
   "outputs": [],
   "source": [
    "#This is the data structure that relates up-triangles to spin indices\n",
    "UpTriangle = zeros(Int,N,3)\n",
    "for i = 1:N\n",
    "    UpTriangle[i,1] = i\n",
    "    UpTriangle[i,2] = i+1    \n",
    "    UpTriangle[i,3] = i+L\n",
    "    #fix PBCs\n",
    "    if mod(i,L) == 0\n",
    "        UpTriangle[i,2] = i + 1 - L\n",
    "    end\n",
    "    if (i+L)> N\n",
    "        UpTriangle[i,3] = i + L - N\n",
    "    end\n",
    "end"
   ]
  },
  {
   "cell_type": "code",
   "execution_count": 3,
   "metadata": {},
   "outputs": [],
   "source": [
    "#This is the inverse data structure that relates a spin index to its 3 up-triangles\n",
    "AssociatedTri = zeros(Int,N,3)\n",
    "for i = 1:N\n",
    "    AssociatedTri[i,1] = i\n",
    "    AssociatedTri[i,2] = i-1\n",
    "    AssociatedTri[i,3] = i-L\n",
    "    if mod(i-1+L,L) == 0\n",
    "        AssociatedTri[i,2] = i - 1 + L\n",
    "    end\n",
    "    if i<(L+1) \n",
    "        AssociatedTri[i,3] = i + N - L\n",
    "    end\n",
    "end"
   ]
  },
  {
   "cell_type": "code",
   "execution_count": 4,
   "metadata": {},
   "outputs": [
    {
     "data": {
      "text/plain": [
       "Energy_Total (generic function with 1 method)"
      ]
     },
     "execution_count": 4,
     "metadata": {},
     "output_type": "execute_result"
    }
   ],
   "source": [
    "#here is the brute force calculation of the energy\n",
    "function Energy_Total(Energy,Spin)\n",
    "    Energy = 0\n",
    "    for i = 1:N\n",
    "        Spin1 = Spin[UpTriangle[i,1]]\n",
    "        Spin2 = Spin[UpTriangle[i,2]]\n",
    "        Spin3 = Spin[UpTriangle[i,3]]\n",
    "        Energy += 0.5 * Spin1 * Spin2 * Spin3  #J = 1\n",
    "    end\n",
    "    return Energy\n",
    "end #Energy_Total"
   ]
  },
  {
   "cell_type": "code",
   "execution_count": 5,
   "metadata": {},
   "outputs": [
    {
     "data": {
      "text/plain": [
       "Energy_Diff (generic function with 1 method)"
      ]
     },
     "execution_count": 5,
     "metadata": {},
     "output_type": "execute_result"
    }
   ],
   "source": [
    "#here is the energy DIFFERENCE calculated from the local triangular plaquettes\n",
    "function Energy_Diff(Spin,spin_index)\n",
    "    \n",
    "    SpinCopy = copy(Spin)\n",
    "    \n",
    "    Tri1 = AssociatedTri[spin_index,1]\n",
    "    Tri2 = AssociatedTri[spin_index,2]\n",
    "    Tri3 = AssociatedTri[spin_index,3]\n",
    "\n",
    "    local_e_before = 0\n",
    "    Spin1 = SpinCopy[UpTriangle[Tri1,1]]\n",
    "    Spin2 = SpinCopy[UpTriangle[Tri1,2]]\n",
    "    Spin3 = SpinCopy[UpTriangle[Tri1,3]]\n",
    "    local_e_before += 0.5 * Spin1 * Spin2 * Spin3  \n",
    "    Spin1 = SpinCopy[UpTriangle[Tri2,1]]\n",
    "    Spin2 = SpinCopy[UpTriangle[Tri2,2]]\n",
    "    Spin3 = SpinCopy[UpTriangle[Tri2,3]]\n",
    "    local_e_before += 0.5 * Spin1 * Spin2 * Spin3  \n",
    "    Spin1 = SpinCopy[UpTriangle[Tri3,1]]\n",
    "    Spin2 = SpinCopy[UpTriangle[Tri3,2]]\n",
    "    Spin3 = SpinCopy[UpTriangle[Tri3,3]]\n",
    "    local_e_before += 0.5 * Spin1 * Spin2 * Spin3  \n",
    "\n",
    "    #flip the spin\n",
    "    SpinCopy[spin_index] *= -1\n",
    "    \n",
    "    local_e_after = 0\n",
    "    Spin1 = SpinCopy[UpTriangle[Tri1,1]]\n",
    "    Spin2 = SpinCopy[UpTriangle[Tri1,2]]\n",
    "    Spin3 = SpinCopy[UpTriangle[Tri1,3]]\n",
    "    local_e_after += 0.5 * Spin1 * Spin2 * Spin3  \n",
    "    Spin1 = SpinCopy[UpTriangle[Tri2,1]]\n",
    "    Spin2 = SpinCopy[UpTriangle[Tri2,2]]\n",
    "    Spin3 = SpinCopy[UpTriangle[Tri2,3]]\n",
    "    local_e_after += 0.5 * Spin1 * Spin2 * Spin3  \n",
    "    Spin1 = SpinCopy[UpTriangle[Tri3,1]]\n",
    "    Spin2 = SpinCopy[UpTriangle[Tri3,2]]\n",
    "    Spin3 = SpinCopy[UpTriangle[Tri3,3]]\n",
    "    local_e_after += 0.5 * Spin1 * Spin2 * Spin3  \n",
    "    \n",
    "    #println(spin_index,\" \",local_e_before,\" \",local_e_after)\n",
    "    \n",
    "    return local_e_after - local_e_before\n",
    "end"
   ]
  },
  {
   "cell_type": "code",
   "execution_count": 6,
   "metadata": {},
   "outputs": [
    {
     "name": "stdout",
     "output_type": "stream",
     "text": [
      "2.0 -0.12259734375  -0.1224593312018546\n",
      "1.9 -0.12708234375  -0.128623419215673\n",
      "1.8 -0.1342403125  -0.1354235592583607\n",
      "1.7 -0.1424140625  -0.14296013786008316\n",
      "1.6 -0.15211734375  -0.15135486466605425\n",
      "1.5 -0.1577703125  -0.16075636876581717\n",
      "1.4 -0.1721321875  -0.17134745348272995\n",
      "1.3 -0.18568234375  -0.183354470187783\n",
      "1.2 -0.1978890625  -0.19705928396540728\n",
      "1.1 -0.21209125  -0.2128140986174974\n",
      "1.0 -0.228809375  -0.2310585786300049\n",
      "0.9 -0.2536940625  -0.2523361988609284\n",
      "0.8 -0.2792603125  -0.2772998611746912\n",
      "0.7 -0.30639140625  -0.30667863019769126\n",
      "0.6 -0.34043421875  -0.34113089511908484\n",
      "0.5 -0.3817090625  -0.3807970779778824\n",
      "0.4 -0.42370734375  -0.42414181997875644\n",
      "0.3 -0.4537071875  -0.4655548043337888\n",
      "0.2 -0.4681125  -0.49330714907571516\n",
      "0.1 -0.46875  -0.49995460213129755\n"
     ]
    }
   ],
   "source": [
    "for T = 2:-0.1:0.1  #count down\n",
    "    \n",
    "    beta = 1.0/T\n",
    "\n",
    "    #initialize the energy\n",
    "    Energy = 0\n",
    "    Energy=Energy_Total(Energy,Spin)\n",
    "    #println(Energy)\n",
    "\n",
    "    E_avg = 0\n",
    "\n",
    "    NumSteps = 100000\n",
    "    for step = 1:NumSteps\n",
    "\n",
    "        spin_i = rand(1:N)\n",
    "        DeltaE = Energy_Diff(Spin,spin_i)\n",
    "\n",
    "        #Metropolis update\n",
    "        if DeltaE <= 0\n",
    "            Energy += DeltaE\n",
    "            Spin[spin_i] *= -1\n",
    "        else\n",
    "            rnum = rand(rng)  #random number for Metropolis\n",
    "            #println(rnum,\" \",DeltaE,\" \",exp(-beta*DeltaE))\n",
    "            if (exp(-beta*DeltaE) > rnum)\n",
    "                Energy += DeltaE\n",
    "                Spin[spin_i] *= -1\n",
    "            end\n",
    "        end #Metropolis\n",
    "\n",
    "        E_avg += Energy\n",
    "\n",
    "    end #step\n",
    "\n",
    "    E_exact = 1/(1+exp(beta)) \n",
    "    println(T,\" \",E_avg/NumSteps/N,\" \",\" \",E_exact-0.5)\n",
    "\n",
    "end #T\n"
   ]
  },
  {
   "cell_type": "code",
   "execution_count": null,
   "metadata": {},
   "outputs": [],
   "source": []
  },
  {
   "cell_type": "code",
   "execution_count": null,
   "metadata": {},
   "outputs": [],
   "source": []
  },
  {
   "cell_type": "code",
   "execution_count": null,
   "metadata": {},
   "outputs": [],
   "source": []
  }
 ],
 "metadata": {
  "kernelspec": {
   "display_name": "Julia 1.3.1",
   "language": "julia",
   "name": "julia-1.3"
  },
  "language_info": {
   "file_extension": ".jl",
   "mimetype": "application/julia",
   "name": "julia",
   "version": "1.3.1"
  }
 },
 "nbformat": 4,
 "nbformat_minor": 2
}
