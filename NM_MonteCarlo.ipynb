{
 "cells": [
  {
   "cell_type": "markdown",
   "metadata": {},
   "source": [
    "# A Monte Carlo program for the Newman-Moore triangular lattice Ising model"
   ]
  },
  {
   "cell_type": "code",
   "execution_count": 1,
   "metadata": {},
   "outputs": [],
   "source": [
    "using Random; Random.seed!(0); \n",
    "#k = 2\n",
    "#L = 2^k\n",
    "L = 4\n",
    "N = L*L\n",
    "Spin = fill(1,N);"
   ]
  },
  {
   "cell_type": "code",
   "execution_count": 2,
   "metadata": {},
   "outputs": [],
   "source": [
    "#This is the data structure that relates up-triangles to spin indices\n",
    "UpTriangle = zeros(Int,N,3)\n",
    "for i = 1:N\n",
    "    UpTriangle[i,1] = i\n",
    "    UpTriangle[i,2] = i+1    \n",
    "    UpTriangle[i,3] = i+L\n",
    "    #fix PBCs\n",
    "    if mod(i,L) == 0\n",
    "        UpTriangle[i,2] = i + 1 - L\n",
    "    end\n",
    "    if (i+L)> N\n",
    "        UpTriangle[i,3] = i + L - N\n",
    "    end\n",
    "end"
   ]
  },
  {
   "cell_type": "code",
   "execution_count": 3,
   "metadata": {},
   "outputs": [],
   "source": [
    "#This is the inverse data structure that relates a spin index to its 3 up-triangles\n",
    "AssociatedTri = zeros(Int,N,3)\n",
    "for i = 1:N\n",
    "    AssociatedTri[i,1] = i\n",
    "    AssociatedTri[i,2] = i-1\n",
    "    AssociatedTri[i,3] = i-L\n",
    "    if mod(i-1+L,L) == 0\n",
    "        AssociatedTri[i,2] = i - 1 + L\n",
    "    end\n",
    "    if i<(L+1) \n",
    "        AssociatedTri[i,3] = i + N - L\n",
    "    end\n",
    "end"
   ]
  },
  {
   "cell_type": "code",
   "execution_count": 4,
   "metadata": {},
   "outputs": [
    {
     "data": {
      "text/plain": [
       "Energy_Total (generic function with 1 method)"
      ]
     },
     "execution_count": 4,
     "metadata": {},
     "output_type": "execute_result"
    }
   ],
   "source": [
    "#here is the brute force calculation of the energy\n",
    "function Energy_Total(Energy)\n",
    "    for i = 1:N\n",
    "        Spin1 = Spin[UpTriangle[i,1]]\n",
    "        Spin2 = Spin[UpTriangle[i,2]]\n",
    "        Spin3 = Spin[UpTriangle[i,3]]\n",
    "        Energy += 0.5 * Spin1 * Spin2 * Spin3  #J = 1\n",
    "    end\n",
    "    return Energy\n",
    "end #Energy_Total"
   ]
  },
  {
   "cell_type": "code",
   "execution_count": 5,
   "metadata": {},
   "outputs": [
    {
     "data": {
      "text/plain": [
       "Energy_Diff (generic function with 1 method)"
      ]
     },
     "execution_count": 5,
     "metadata": {},
     "output_type": "execute_result"
    }
   ],
   "source": [
    "#here is the energy calculated from the local triangular plaquettes\n",
    "function Energy_Diff(Energy,spin_index)\n",
    "       \n",
    "    Tri1 = AssociatedTri[spin_index,1]\n",
    "    Tri2 = AssociatedTri[spin_index,2]\n",
    "    Tri3 = AssociatedTri[spin_index,3]\n",
    "\n",
    "    local_e_before = 0\n",
    "    Spin1 = Spin[UpTriangle[Tri1,1]]\n",
    "    Spin2 = Spin[UpTriangle[Tri1,2]]\n",
    "    Spin3 = Spin[UpTriangle[Tri1,3]]\n",
    "    local_e_before += 0.5 * Spin1 * Spin2 * Spin3  \n",
    "    Spin1 = Spin[UpTriangle[Tri2,1]]\n",
    "    Spin2 = Spin[UpTriangle[Tri2,2]]\n",
    "    Spin3 = Spin[UpTriangle[Tri2,3]]\n",
    "    local_e_before += 0.5 * Spin1 * Spin2 * Spin3  \n",
    "    Spin1 = Spin[UpTriangle[Tri3,1]]\n",
    "    Spin2 = Spin[UpTriangle[Tri3,2]]\n",
    "    Spin3 = Spin[UpTriangle[Tri3,3]]\n",
    "    local_e_before += 0.5 * Spin1 * Spin2 * Spin3  \n",
    "\n",
    "    #flip the spin\n",
    "    Spin[spin_index] *= -1\n",
    "    \n",
    "    local_e_after = 0\n",
    "    Spin1 = Spin[UpTriangle[Tri1,1]]\n",
    "    Spin2 = Spin[UpTriangle[Tri1,2]]\n",
    "    Spin3 = Spin[UpTriangle[Tri1,3]]\n",
    "    local_e_after += 0.5 * Spin1 * Spin2 * Spin3  \n",
    "    Spin1 = Spin[UpTriangle[Tri2,1]]\n",
    "    Spin2 = Spin[UpTriangle[Tri2,2]]\n",
    "    Spin3 = Spin[UpTriangle[Tri2,3]]\n",
    "    local_e_after += 0.5 * Spin1 * Spin2 * Spin3  \n",
    "    Spin1 = Spin[UpTriangle[Tri3,1]]\n",
    "    Spin2 = Spin[UpTriangle[Tri3,2]]\n",
    "    Spin3 = Spin[UpTriangle[Tri3,3]]\n",
    "    local_e_after += 0.5 * Spin1 * Spin2 * Spin3  \n",
    "    \n",
    "    println(spin_index,\" \",local_e_before,\" \",local_e_after)\n",
    "    \n",
    "    return Energy + local_e_after - local_e_before\n",
    "end"
   ]
  },
  {
   "cell_type": "code",
   "execution_count": 6,
   "metadata": {},
   "outputs": [
    {
     "name": "stdout",
     "output_type": "stream",
     "text": [
      "8.0\n"
     ]
    }
   ],
   "source": [
    "Energy = 0\n",
    "Energy=Energy_Total(Energy)\n",
    "println(Energy)"
   ]
  },
  {
   "cell_type": "code",
   "execution_count": 7,
   "metadata": {},
   "outputs": [
    {
     "name": "stdout",
     "output_type": "stream",
     "text": [
      "2 1.5 -1.5\n",
      "5.0 \n"
     ]
    }
   ],
   "source": [
    "spin_i = 2\n",
    "println(Energy_Diff(Energy,spin_i),\" \")"
   ]
  },
  {
   "cell_type": "code",
   "execution_count": 8,
   "metadata": {},
   "outputs": [
    {
     "name": "stdout",
     "output_type": "stream",
     "text": [
      "2 -1.5 1.5\n",
      "11.0 \n"
     ]
    }
   ],
   "source": [
    "spin_i = 2\n",
    "println(Energy_Diff(Energy,spin_i),\" \")"
   ]
  },
  {
   "cell_type": "code",
   "execution_count": null,
   "metadata": {},
   "outputs": [],
   "source": []
  }
 ],
 "metadata": {
  "kernelspec": {
   "display_name": "Julia 1.3.1",
   "language": "julia",
   "name": "julia-1.3"
  },
  "language_info": {
   "file_extension": ".jl",
   "mimetype": "application/julia",
   "name": "julia",
   "version": "1.3.1"
  }
 },
 "nbformat": 4,
 "nbformat_minor": 2
}
