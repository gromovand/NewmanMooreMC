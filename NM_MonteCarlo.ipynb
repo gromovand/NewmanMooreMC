{
 "cells": [
  {
   "cell_type": "markdown",
   "metadata": {},
   "source": [
    "# A Monte Carlo program for the Newman-Moore triangular lattice Ising model"
   ]
  },
  {
   "cell_type": "code",
   "execution_count": 4,
   "metadata": {},
   "outputs": [],
   "source": [
    "using Random; Random.seed!(0); \n",
    "#k = 2\n",
    "#L = 2^k\n",
    "L = 4\n",
    "N = L*L\n",
    "Spin = fill(1,N);"
   ]
  },
  {
   "cell_type": "code",
   "execution_count": 12,
   "metadata": {},
   "outputs": [],
   "source": [
    "#This is the data structure that relates up-triangles to spin indices\n",
    "UpTriangle = zeros(Int,N,3)\n",
    "for i = 1:N\n",
    "    UpTriangle[i,1] = i\n",
    "    UpTriangle[i,2] = i+1    \n",
    "    UpTriangle[i,3] = i+L\n",
    "    #fix PBCs\n",
    "    if mod(i,L) == 0\n",
    "        UpTriangle[i,2] = i + 1 - L\n",
    "    end\n",
    "    if (i+L)> N\n",
    "        UpTriangle[i,3] = i + L - N\n",
    "    end\n",
    "end"
   ]
  },
  {
   "cell_type": "code",
   "execution_count": 22,
   "metadata": {},
   "outputs": [],
   "source": [
    "#This is the inverse data structure that relates a spin index to its 3 up-triangles\n",
    "AssociatedTri = zeros(Int,N,3)\n",
    "for i = 1:N\n",
    "    AssociatedTri[i,1] = i\n",
    "    AssociatedTri[i,2] = i-1\n",
    "    AssociatedTri[i,3] = i-L\n",
    "    if mod(i-1+L,L) == 0\n",
    "        AssociatedTri[i,2] = i - 1 + L\n",
    "    end\n",
    "    if i<(L+1) \n",
    "        AssociatedTri[i,3] = i + N - L\n",
    "    end\n",
    "end"
   ]
  },
  {
   "cell_type": "code",
   "execution_count": null,
   "metadata": {},
   "outputs": [],
   "source": []
  }
 ],
 "metadata": {
  "kernelspec": {
   "display_name": "Julia 1.3.1",
   "language": "julia",
   "name": "julia-1.3"
  },
  "language_info": {
   "file_extension": ".jl",
   "mimetype": "application/julia",
   "name": "julia",
   "version": "1.3.1"
  }
 },
 "nbformat": 4,
 "nbformat_minor": 2
}
